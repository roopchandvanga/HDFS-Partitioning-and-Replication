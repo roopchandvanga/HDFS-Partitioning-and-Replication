{
 "cells": [
  {
   "cell_type": "code",
   "execution_count": 1,
   "id": "927f1e6a-d58e-4896-9eb9-2adfe18eec89",
   "metadata": {},
   "outputs": [
    {
     "name": "stdout",
     "output_type": "stream",
     "text": [
      "Configured Capacity: 49766334464 (46.35 GB)\n",
      "Present Capacity: 33970233344 (31.64 GB)\n",
      "DFS Remaining: 33970184192 (31.64 GB)\n",
      "DFS Used: 49152 (48 KB)\n",
      "DFS Used%: 0.00%\n",
      "Replicated Blocks:\n",
      "\tUnder replicated blocks: 0\n",
      "\tBlocks with corrupt replicas: 0\n",
      "\tMissing blocks: 0\n",
      "\tMissing blocks (with replication factor 1): 0\n",
      "\tLow redundancy blocks with highest priority to recover: 0\n",
      "\tPending deletion blocks: 0\n",
      "Erasure Coded Block Groups: \n",
      "\tLow redundancy block groups: 0\n",
      "\tBlock groups with corrupt internal blocks: 0\n",
      "\tMissing block groups: 0\n",
      "\tLow redundancy blocks with highest priority to recover: 0\n",
      "\tPending deletion blocks: 0\n",
      "\n",
      "-------------------------------------------------\n",
      "Live datanodes (2):\n",
      "\n",
      "Name: 172.18.0.3:9866 (p4-dn-1.p4_default)\n",
      "Hostname: e28162eb8f91\n",
      "Decommission Status : Normal\n",
      "Configured Capacity: 24883167232 (23.17 GB)\n",
      "DFS Used: 24576 (24 KB)\n",
      "Non DFS Used: 7881273344 (7.34 GB)\n",
      "DFS Remaining: 16985092096 (15.82 GB)\n",
      "DFS Used%: 0.00%\n",
      "DFS Remaining%: 68.26%\n",
      "Configured Cache Capacity: 0 (0 B)\n",
      "Cache Used: 0 (0 B)\n",
      "Cache Remaining: 0 (0 B)\n",
      "Cache Used%: 100.00%\n",
      "Cache Remaining%: 0.00%\n",
      "Xceivers: 0\n",
      "Last contact: Wed Oct 23 23:30:04 GMT 2024\n",
      "Last Block Report: Wed Oct 23 23:29:59 GMT 2024\n",
      "Num of Blocks: 0\n",
      "\n",
      "\n",
      "Name: 172.18.0.5:9866 (p4-dn-2.p4_default)\n",
      "Hostname: f97558dc9329\n",
      "Decommission Status : Normal\n",
      "Configured Capacity: 24883167232 (23.17 GB)\n",
      "DFS Used: 24576 (24 KB)\n",
      "Non DFS Used: 7881273344 (7.34 GB)\n",
      "DFS Remaining: 16985092096 (15.82 GB)\n",
      "DFS Used%: 0.00%\n",
      "DFS Remaining%: 68.26%\n",
      "Configured Cache Capacity: 0 (0 B)\n",
      "Cache Used: 0 (0 B)\n",
      "Cache Remaining: 0 (0 B)\n",
      "Cache Used%: 100.00%\n",
      "Cache Remaining%: 0.00%\n",
      "Xceivers: 0\n",
      "Last contact: Wed Oct 23 23:30:04 GMT 2024\n",
      "Last Block Report: Wed Oct 23 23:29:59 GMT 2024\n",
      "Num of Blocks: 0\n",
      "\n",
      "\n"
     ]
    }
   ],
   "source": [
    "#q1\n",
    "! hdfs dfsadmin -fs hdfs://boss:9000 -report"
   ]
  },
  {
   "cell_type": "code",
   "execution_count": 2,
   "id": "041adeda-de1a-42ed-a126-e052320e48b8",
   "metadata": {},
   "outputs": [],
   "source": [
    "import pandas as pd\n",
    "import pyarrow as pa\n",
    "import pyarrow.parquet as pq\n",
    "import pyarrow.csv as pac\n",
    "import requests\n",
    "\n",
    "# Step 1: Download the CSV file from a URL\n",
    "csv_url = \"https://pages.cs.wisc.edu/~harter/cs544/data/hdma-wi-2021.csv\"\n",
    "response = requests.get(csv_url)\n",
    "# Step 2: Write the CSV content to a local file\n",
    "csv_file = \"hdma-wi-2021.csv\"\n",
    "parquet_file = 'hdma-wi-2021.parquet'\n",
    "\n",
    "with open(csv_file, 'w') as f:\n",
    "    f.write(response.text)"
   ]
  },
  {
   "cell_type": "code",
   "execution_count": 4,
   "id": "1ef0d839-5491-453a-8b1c-9f0bfbc20093",
   "metadata": {},
   "outputs": [],
   "source": [
    "# Step 3: Read the entire CSV file into a single DataFrame\n",
    "t = pac.read_csv(csv_file)\n",
    "pq.write_table(t, parquet_file)"
   ]
  },
  {
   "cell_type": "code",
   "execution_count": 5,
   "id": "023f499f-318e-433a-a9fa-6fa8a0c4687c",
   "metadata": {},
   "outputs": [],
   "source": [
    "!hdfs dfs -D dfs.block.size=1048576 -D dfs.replication=1 -cp hdma-wi-2021.parquet hdfs://boss:9000/single.parquet"
   ]
  },
  {
   "cell_type": "code",
   "execution_count": 6,
   "id": "b344489b-6a74-4b1c-8753-662f5892ec5c",
   "metadata": {},
   "outputs": [],
   "source": [
    "!hdfs dfs -D dfs.block.size=1048576 -D dfs.replication=2 -cp hdma-wi-2021.parquet hdfs://boss:9000/double.parquet"
   ]
  },
  {
   "cell_type": "code",
   "execution_count": 8,
   "id": "b8147b2b-93a5-4950-b401-f1a43f15d166",
   "metadata": {},
   "outputs": [],
   "source": [
    "#!hdfs fsck hdfs://boss:9000/single.parquet"
   ]
  },
  {
   "cell_type": "code",
   "execution_count": 9,
   "id": "08297e9d-233a-44de-a9b2-e32af455053c",
   "metadata": {},
   "outputs": [
    {
     "name": "stdout",
     "output_type": "stream",
     "text": [
      "15.9 M  31.7 M  hdfs://boss:9000/double.parquet\n",
      "15.9 M  15.9 M  hdfs://boss:9000/single.parquet\n"
     ]
    }
   ],
   "source": [
    "#q2\n",
    "!hdfs dfs -du -h hdfs://boss:9000/"
   ]
  },
  {
   "cell_type": "code",
   "execution_count": 10,
   "id": "f33690da-2fe5-4095-9d93-d84fc470e164",
   "metadata": {},
   "outputs": [],
   "source": [
    "#curl -i  \"http://boss:9870/webhdfs/v1/?op=GETFILESTATUS\"\n",
    "r = requests.get(\"http://boss:9870/webhdfs/v1/single.parquet?op=GETFILESTATUS\")\n",
    "r.raise_for_status()"
   ]
  },
  {
   "cell_type": "code",
   "execution_count": 11,
   "id": "7d9f124f-8e71-47df-b83f-8a8783e115f7",
   "metadata": {},
   "outputs": [
    {
     "data": {
      "text/plain": [
       "{'FileStatus': {'accessTime': 1729726347906,\n",
       "  'blockSize': 1048576,\n",
       "  'childrenNum': 0,\n",
       "  'fileId': 16386,\n",
       "  'group': 'supergroup',\n",
       "  'length': 16642976,\n",
       "  'modificationTime': 1729726349235,\n",
       "  'owner': 'root',\n",
       "  'pathSuffix': '',\n",
       "  'permission': '644',\n",
       "  'replication': 1,\n",
       "  'storagePolicy': 0,\n",
       "  'type': 'FILE'}}"
      ]
     },
     "execution_count": 11,
     "metadata": {},
     "output_type": "execute_result"
    }
   ],
   "source": [
    "#q3\n",
    "r.json() "
   ]
  },
  {
   "cell_type": "code",
   "execution_count": 12,
   "id": "15010614-5579-43d3-a3b4-06f2c9f1e3ad",
   "metadata": {},
   "outputs": [
    {
     "data": {
      "text/plain": [
       "'http://f97558dc9329:9864/webhdfs/v1/single.parquet?op=OPEN&namenoderpcaddress=boss:9000&offset=0'"
      ]
     },
     "execution_count": 12,
     "metadata": {},
     "output_type": "execute_result"
    }
   ],
   "source": [
    "#q4\n",
    "r = requests.get(\"http://boss:9870/webhdfs/v1/single.parquet?op=OPEN&offset=0&noredirect=true\")\n",
    "r.raise_for_status()\n",
    "r.json()[\"Location\"] "
   ]
  },
  {
   "cell_type": "code",
   "execution_count": 13,
   "id": "15e43a40-b720-45d8-b4f6-bbefd3ccab4a",
   "metadata": {},
   "outputs": [
    {
     "data": {
      "text/plain": [
       "{'f97558dc9329': 9, 'e28162eb8f91': 7}"
      ]
     },
     "execution_count": 13,
     "metadata": {},
     "output_type": "execute_result"
    }
   ],
   "source": [
    "#q5\n",
    "from collections import defaultdict\n",
    "\n",
    "r = requests.get(\"http://boss:9870/webhdfs/v1/single.parquet?op=GETFILEBLOCKLOCATIONS\")\n",
    "r.raise_for_status()\n",
    "l=[]\n",
    "for block in r.json()[\"BlockLocations\"][\"BlockLocation\"]:\n",
    "    l.append(block['hosts'][0])\n",
    "\n",
    "count_dict = defaultdict(int)\n",
    "\n",
    "for id in l:\n",
    "    count_dict[id] += 1\n",
    "\n",
    "result_dict = dict(count_dict)\n",
    "\n",
    "result_dict"
   ]
  },
  {
   "cell_type": "code",
   "execution_count": 14,
   "id": "eefee93d-8b4b-47db-9894-cca675f61994",
   "metadata": {},
   "outputs": [
    {
     "data": {
      "text/plain": [
       "{'f97558dc9329': 16, 'e28162eb8f91': 16}"
      ]
     },
     "execution_count": 14,
     "metadata": {},
     "output_type": "execute_result"
    }
   ],
   "source": [
    "#q6\n",
    "r = requests.get(\"http://boss:9870/webhdfs/v1/double.parquet?op=GETFILEBLOCKLOCATIONS\")\n",
    "r.raise_for_status()\n",
    "l=[]\n",
    "for block in r.json()[\"BlockLocations\"][\"BlockLocation\"]:\n",
    "    l.append(block['hosts'])\n",
    "\n",
    "count_dict = {}\n",
    "\n",
    "for sublist in l:\n",
    "    for id in sublist:\n",
    "        if id in count_dict:\n",
    "            count_dict[id] += 1\n",
    "        else:\n",
    "            count_dict[id] = 1\n",
    "\n",
    "count_dict"
   ]
  },
  {
   "cell_type": "code",
   "execution_count": 25,
   "id": "ff2a9372-ece7-43ce-a034-79663df0dcf8",
   "metadata": {},
   "outputs": [
    {
     "data": {
      "text/plain": [
       "1.3443653583526611"
      ]
     },
     "execution_count": 25,
     "metadata": {},
     "output_type": "execute_result"
    }
   ],
   "source": [
    "#q7\n",
    "import time\n",
    "start_time = time.time()\n",
    "hdfs = pa.fs.HadoopFileSystem(\"boss\", 9000)\n",
    "\n",
    "with hdfs.open_input_file(\"/double.parquet\") as f:\n",
    "    t = pa.parquet.read_table(f)\n",
    "t=t.to_pandas()\n",
    "t[\"loan_amount\"].mean()\n",
    "end_time = time.time()\n",
    "t1=end_time - start_time\n",
    "t[\"loan_amount\"].mean()"
   ]
  },
  {
   "cell_type": "code",
   "execution_count": 26,
   "id": "cfb544ae-620c-404b-b158-9f0badeaee6b",
   "metadata": {},
   "outputs": [
    {
     "data": {
      "text/plain": [
       "11.569174866841202"
      ]
     },
     "execution_count": 26,
     "metadata": {},
     "output_type": "execute_result"
    }
   ],
   "source": [
    "#q8\n",
    "start_time = time.time()\n",
    "\n",
    "hdfs = pa.fs.HadoopFileSystem(\"boss\", 9000)\n",
    "\n",
    "with hdfs.open_input_file(\"/double.parquet\") as f:\n",
    "    t = pa.parquet.read_table(f, columns=[\"loan_amount\"])\n",
    "t=t.to_pandas()\n",
    "t.mean()\n",
    "end_time = time.time()\n",
    "t2=end_time - start_time\n",
    "t1/t2"
   ]
  },
  {
   "cell_type": "code",
   "execution_count": null,
   "id": "02a08808-14a9-4368-99e3-7fa22d7d2a54",
   "metadata": {},
   "outputs": [],
   "source": []
  }
 ],
 "metadata": {
  "kernelspec": {
   "display_name": "Python 3 (ipykernel)",
   "language": "python",
   "name": "python3"
  },
  "language_info": {
   "codemirror_mode": {
    "name": "ipython",
    "version": 3
   },
   "file_extension": ".py",
   "mimetype": "text/x-python",
   "name": "python",
   "nbconvert_exporter": "python",
   "pygments_lexer": "ipython3",
   "version": "3.10.12"
  }
 },
 "nbformat": 4,
 "nbformat_minor": 5
}
