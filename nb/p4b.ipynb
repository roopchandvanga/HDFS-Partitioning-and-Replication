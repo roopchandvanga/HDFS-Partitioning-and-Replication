{
 "cells": [
  {
   "cell_type": "code",
   "execution_count": 2,
   "id": "b2532404-b571-4746-9e81-bf3082a4e38b",
   "metadata": {},
   "outputs": [
    {
     "name": "stdout",
     "output_type": "stream",
     "text": [
      "Configured Capacity: 24883167232 (23.17 GB)\n",
      "Present Capacity: 17002295296 (15.83 GB)\n",
      "DFS Remaining: 16977002496 (15.81 GB)\n",
      "DFS Used: 25292800 (24.12 MB)\n",
      "DFS Used%: 0.15%\n",
      "Replicated Blocks:\n",
      "\tUnder replicated blocks: 16\n",
      "\tBlocks with corrupt replicas: 0\n",
      "\tMissing blocks: 8\n",
      "\tMissing blocks (with replication factor 1): 8\n",
      "\tLow redundancy blocks with highest priority to recover: 16\n",
      "\tPending deletion blocks: 0\n",
      "Erasure Coded Block Groups: \n",
      "\tLow redundancy block groups: 0\n",
      "\tBlock groups with corrupt internal blocks: 0\n",
      "\tMissing block groups: 0\n",
      "\tLow redundancy blocks with highest priority to recover: 0\n",
      "\tPending deletion blocks: 0\n",
      "\n",
      "-------------------------------------------------\n",
      "Live datanodes (1):\n",
      "\n",
      "Name: 172.18.0.2:9866 (p4-dn-1.p4_default)\n",
      "Hostname: 5e22787d31c7\n",
      "Decommission Status : Normal\n",
      "Configured Capacity: 24883167232 (23.17 GB)\n",
      "DFS Used: 25292800 (24.12 MB)\n",
      "Non DFS Used: 7864094720 (7.32 GB)\n",
      "DFS Remaining: 16977002496 (15.81 GB)\n",
      "DFS Used%: 0.10%\n",
      "DFS Remaining%: 68.23%\n",
      "Configured Cache Capacity: 0 (0 B)\n",
      "Cache Used: 0 (0 B)\n",
      "Cache Remaining: 0 (0 B)\n",
      "Cache Used%: 100.00%\n",
      "Cache Remaining%: 0.00%\n",
      "Xceivers: 0\n",
      "Last contact: Wed Oct 23 21:50:17 GMT 2024\n",
      "Last Block Report: Wed Oct 23 18:56:44 GMT 2024\n",
      "Num of Blocks: 24\n",
      "\n",
      "\n",
      "Dead datanodes (1):\n",
      "\n",
      "Name: 172.18.0.5:9866 (172.18.0.5)\n",
      "Hostname: e181382dba04\n",
      "Decommission Status : Normal\n",
      "Configured Capacity: 24883167232 (23.17 GB)\n",
      "DFS Used: 25395200 (24.22 MB)\n",
      "Non DFS Used: 7863930880 (7.32 GB)\n",
      "DFS Remaining: 16977063936 (15.81 GB)\n",
      "DFS Used%: 0.10%\n",
      "DFS Remaining%: 68.23%\n",
      "Configured Cache Capacity: 0 (0 B)\n",
      "Cache Used: 0 (0 B)\n",
      "Cache Remaining: 0 (0 B)\n",
      "Cache Used%: 100.00%\n",
      "Cache Remaining%: 0.00%\n",
      "Xceivers: 0\n",
      "Last contact: Wed Oct 23 21:48:32 GMT 2024\n",
      "Last Block Report: Wed Oct 23 18:56:44 GMT 2024\n",
      "Num of Blocks: 0\n",
      "\n",
      "\n"
     ]
    }
   ],
   "source": [
    "#q9\n",
    "! hdfs dfsadmin -fs hdfs://boss:9000 -report"
   ]
  },
  {
   "cell_type": "code",
   "execution_count": 9,
   "id": "db73d080-e778-415f-9cc9-4a14e0cfba03",
   "metadata": {},
   "outputs": [
    {
     "data": {
      "text/plain": [
       "8"
      ]
     },
     "execution_count": 9,
     "metadata": {},
     "output_type": "execute_result"
    }
   ],
   "source": [
    "#Q10\n",
    "import requests\n",
    "\n",
    "r = requests.get(\"http://boss:9870/webhdfs/v1/single.parquet?op=GETFILEBLOCKLOCATIONS\")\n",
    "r.raise_for_status\n",
    "l=[]\n",
    "for block in r.json()[\"BlockLocations\"][\"BlockLocation\"]:\n",
    "    l.append(block['hosts'])\n",
    "\n",
    "n=0\n",
    "for i in l:\n",
    "    if not i:\n",
    "        n+=1\n",
    "n"
   ]
  },
  {
   "cell_type": "code",
   "execution_count": null,
   "id": "2da6d4bf-4067-4b99-bbbe-dab581124d27",
   "metadata": {},
   "outputs": [],
   "source": []
  }
 ],
 "metadata": {
  "kernelspec": {
   "display_name": "Python 3 (ipykernel)",
   "language": "python",
   "name": "python3"
  },
  "language_info": {
   "codemirror_mode": {
    "name": "ipython",
    "version": 3
   },
   "file_extension": ".py",
   "mimetype": "text/x-python",
   "name": "python",
   "nbconvert_exporter": "python",
   "pygments_lexer": "ipython3",
   "version": "3.10.12"
  }
 },
 "nbformat": 4,
 "nbformat_minor": 5
}
